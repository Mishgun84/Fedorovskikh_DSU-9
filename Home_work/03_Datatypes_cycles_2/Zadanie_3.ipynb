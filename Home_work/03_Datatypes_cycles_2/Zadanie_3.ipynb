{
 "cells": [
  {
   "cell_type": "markdown",
   "id": "a5d01845",
   "metadata": {},
   "source": [
    "# Домашнее задание к лекции \"Введение в типы данных и циклы. Часть 2\""
   ]
  },
  {
   "cell_type": "markdown",
   "id": "52168065",
   "metadata": {},
   "source": [
    "## Задание 1"
   ]
  },
  {
   "cell_type": "markdown",
   "id": "746cc6c6",
   "metadata": {},
   "source": [
    "Дана переменная, в которой хранится словарь, содержащий гео-метки для каждого пользователя (пример структуры данных приведен ниже). Вам необходимо написать программу, которая выведет на экран множество уникальных гео-меток всех пользователей."
   ]
  },
  {
   "cell_type": "code",
   "execution_count": 22,
   "id": "7cb7ee6d",
   "metadata": {},
   "outputs": [
    {
     "name": "stdout",
     "output_type": "stream",
     "text": [
      "Результат:  {98, 35, 15, 213, 54, 119}\n"
     ]
    }
   ],
   "source": [
    "ids = {'user1': [213, 213, 213, 15, 213], \n",
    "       'user2': [54, 54, 119, 119, 119], \n",
    "       'user3': [213, 98, 98, 35]}\n",
    "\n",
    "spisok = [el for el in ids.values()] # Получаем из словаря список со списками значений\n",
    "ed_spisok = []                       # Склеиваем все списки в единый список  \n",
    "for el in spisok:\n",
    "    ed_spisok += el\n",
    "print('Результат: ', set(ed_spisok))                # Преобразуем в множество и выводим на экран\n"
   ]
  },
  {
   "cell_type": "markdown",
   "id": "e357d29c",
   "metadata": {},
   "source": [
    "## Задание 2"
   ]
  },
  {
   "cell_type": "markdown",
   "id": "11454a92",
   "metadata": {},
   "source": [
    "Дана переменная, в которой хранится список поисковых запросов пользователя (пример структуры данных приведен ниже). Вам необходимо написать программу, которая выведет на экран распределение количества слов в запросах в требуемом виде."
   ]
  },
  {
   "cell_type": "code",
   "execution_count": 53,
   "id": "fec47db9",
   "metadata": {},
   "outputs": [
    {
     "name": "stdout",
     "output_type": "stream",
     "text": [
      "Поисковых запросов, содержащих 2 слов(а): 42.86%\n",
      "Поисковых запросов, содержащих 3 слов(а): 57.14%\n"
     ]
    }
   ],
   "source": [
    "queries = [\n",
    "    'смотреть сериалы онлайн',\n",
    "    'новости спорта',\n",
    "    'афиша кино',\n",
    "    'курс доллара',\n",
    "    'сериалы этим летом',\n",
    "    'курс по питону',\n",
    "    'сериалы про спорт',\n",
    "]\n",
    "\n",
    "my_dict = {}\n",
    "for el in queries:\n",
    "    if len(el.split(' ')) not in my_dict:\n",
    "        my_dict.setdefault(len(el.split(' ')), 1 / len(queries)) # Если ключа с таким количеством слов нет, то создаем и задаем минимальное значение\n",
    "    else:\n",
    "        my_dict[len(el.split(' '))] += 1 / len(queries) # К значению для существующего ключа прибавляем минимальное значение\n",
    "\n",
    "# Выводим на экран отсортированный словарь:\n",
    "for el in sorted(my_dict):                              \n",
    "    print(f'Поисковых запросов, содержащих {el} слов(а): {my_dict[el]:.2%}')\n"
   ]
  },
  {
   "cell_type": "markdown",
   "id": "a0edb370",
   "metadata": {},
   "source": [
    "## Задание 3"
   ]
  },
  {
   "cell_type": "markdown",
   "id": "775000af",
   "metadata": {},
   "source": [
    "Дана переменная, в которой хранится информация о затратах и доходе рекламных кампаний по различным источникам. Необходимо дополнить исходную структуру показателем ROI, который рассчитаем по формуле: (revenue / cost - 1) * 100"
   ]
  },
  {
   "cell_type": "code",
   "execution_count": 73,
   "id": "2d648d0b",
   "metadata": {},
   "outputs": [
    {
     "name": "stdout",
     "output_type": "stream",
     "text": [
      "('adwords', {'revenue': 35, 'cost': 34, 'ROI': 2.94})\n",
      "('facebook', {'revenue': 103, 'cost': 110, 'ROI': -6.36})\n",
      "('twitter', {'revenue': 11, 'cost': 24, 'ROI': -54.17})\n",
      "('vk', {'revenue': 103, 'cost': 98, 'ROI': 5.1})\n",
      "('yandex', {'revenue': 179, 'cost': 153, 'ROI': 16.99})\n"
     ]
    }
   ],
   "source": [
    "results = {\n",
    "    'vk': {'revenue': 103, 'cost': 98},\n",
    "    'yandex': {'revenue': 179, 'cost': 153},\n",
    "    'facebook': {'revenue': 103, 'cost': 110},\n",
    "    'adwords': {'revenue': 35, 'cost': 34},\n",
    "    'twitter': {'revenue': 11, 'cost': 24},\n",
    "}\n",
    "\n",
    "for element in results.values():\n",
    "    element.setdefault('ROI', round((element['revenue'] / element['cost'] - 1) * 100, 2))\n",
    "\n",
    "for item in sorted(results.items()):\n",
    "    print(item)\n",
    "\n",
    "# {'adwords': {'revenue': 35, 'cost': 34, 'ROI': 2.94},\n",
    "#  'facebook': {'revenue': 103, 'cost': 110, 'ROI': -6.36},\n",
    "#  'twitter': {'revenue': 11, 'cost': 24, 'ROI': -54.17},\n",
    "#  'vk': {'revenue': 103, 'cost': 98, 'ROI': 5.1},\n",
    "#  'yandex': {'revenue': 179, 'cost': 153, 'ROI': 16.99}}\n",
    "# Как вывести на экран в таком виде ↑ (с фигурными скобками) я не придумал"
   ]
  },
  {
   "cell_type": "markdown",
   "id": "f870031e",
   "metadata": {},
   "source": [
    "## Задание 4"
   ]
  },
  {
   "cell_type": "markdown",
   "id": "633ced8e",
   "metadata": {},
   "source": [
    "Дана переменная, в которой хранится статистика рекламных каналов по объемам продаж (пример структуры данных приведен ниже). Напишите программу, которая возвращает название канала с максимальным объемом продаж."
   ]
  },
  {
   "cell_type": "code",
   "execution_count": 82,
   "id": "3507ac95",
   "metadata": {},
   "outputs": [
    {
     "name": "stdout",
     "output_type": "stream",
     "text": [
      "Максимальный объем продаж 120 на рекламном канале: vk\n"
     ]
    }
   ],
   "source": [
    "stats = {'facebook': 55, 'yandex': 115, 'vk': 120, 'google': 99, 'email': 42, 'ok': 98}\n",
    "max_v = 0 \n",
    "max_ch = ''\n",
    "for channel, vol in stats.items():\n",
    "    if max_v < vol:\n",
    "        max_v = vol\n",
    "        max_ch = channel\n",
    "    \n",
    "print(f'Максимальный объем продаж {max_v} на рекламном канале: {max_ch}')\n",
    "# Результат: Максимальный объем продаж на рекламном канале: vk\n",
    "\n",
    "# Надо ли решать задачу для случая, когда максимальный показатель одинаков для нескольких каналов?"
   ]
  },
  {
   "cell_type": "code",
   "execution_count": 87,
   "id": "57b6c5df",
   "metadata": {},
   "outputs": [
    {
     "name": "stdout",
     "output_type": "stream",
     "text": [
      "Максимальный объем продаж 120 на рекламном канале: yandex\n",
      "Максимальный объем продаж 120 на рекламном канале: vk\n",
      "Максимальный объем продаж 120 на рекламном канале: ok\n"
     ]
    }
   ],
   "source": [
    "#Если несколько каналов имеют одинаковый максимальный объем, то на экран выведутся все\n",
    "\n",
    "stats = {'facebook': 55, 'yandex': 120, 'vk': 120, 'google': 99, 'email': 42, 'ok': 120}\n",
    "max_v = 0 \n",
    "max_ch = ''\n",
    "for channel, vol in stats.items():\n",
    "    if max_v < vol:\n",
    "        max_v = vol\n",
    "for channel, vol in stats.items():\n",
    "    if vol == max_v:\n",
    "        print(f'Максимальный объем продаж {vol} на рекламном канале: {channel}')\n"
   ]
  },
  {
   "cell_type": "markdown",
   "id": "a4c62c99",
   "metadata": {},
   "source": [
    "## Задание 5 (необязательно)"
   ]
  },
  {
   "cell_type": "markdown",
   "id": "0e7ee8a5",
   "metadata": {},
   "source": [
    "Дан список произвольной длины. Необходимо написать код, который на основе исходного списка составит словарь такого уровня вложенности, какова длина исхондого списка."
   ]
  },
  {
   "cell_type": "code",
   "execution_count": 126,
   "id": "0986a95a",
   "metadata": {},
   "outputs": [
    {
     "name": "stdout",
     "output_type": "stream",
     "text": [
      "{'a': {'b': {'c': {'d': {'e': {'f': {'g': {'h': {'i': 'j'}}}}}}}}}\n"
     ]
    }
   ],
   "source": [
    "my_list = ['a', 'b', 'c', 'd', 'e', 'f','g','h','i','j']\n",
    "index = len(my_list) - 1\n",
    "new_dict = {my_list[index - 1]:my_list[index]}\n",
    "\n",
    "while index >=2:\n",
    "    new_dict = {my_list[index - 2]: new_dict}\n",
    "    index -= 1\n",
    "    \n",
    "print(new_dict)\n"
   ]
  },
  {
   "cell_type": "markdown",
   "id": "5746a6e6",
   "metadata": {},
   "source": [
    "## Задание 6 (необязательно)"
   ]
  },
  {
   "cell_type": "markdown",
   "id": "21150ebb",
   "metadata": {},
   "source": [
    "Дана книга рецептов с информацией о том, сколько ингредиентов нужно для приготовления блюда в расчете на одну порцию (пример данных представлен ниже).\n",
    "Напишите программу, которая будет запрашивать у пользователя количество порций для приготовления этих блюд и отображать информацию о суммарном количестве требуемых ингредиентов в указанном виде.\n",
    "Внимание! Одинаковые ингридиенты с разными размерностями нужно считать раздельно!"
   ]
  },
  {
   "cell_type": "code",
   "execution_count": 183,
   "id": "1f621c89",
   "metadata": {},
   "outputs": [
    {
     "name": "stdout",
     "output_type": "stream",
     "text": [
      "Введите количество порций:3\n",
      "сыр: 210 гр\n",
      "томаты: 6 шт\n",
      "огурцы: 60 гр\n",
      "маслины: 30 гр\n",
      "оливковое масло: 60 мл\n",
      "салат: 30 гр\n",
      "перец: 60 гр\n",
      "колбаса: 90 гр\n",
      "бекон: 90 гр\n",
      "оливки: 30 гр\n",
      "томаты: 60 гр\n",
      "тесто: 300 гр\n",
      "лимон: 3 шт\n",
      "вода: 600 мл\n",
      "сахар: 30 гр\n",
      "лайм: 60 гр\n"
     ]
    }
   ],
   "source": [
    "cook_book = {\n",
    "  'салат': [\n",
    "     {'ingridient_name': 'сыр', 'quantity': 50, 'measure': 'гр'},\n",
    "     {'ingridient_name': 'томаты', 'quantity': 2, 'measure': 'шт'},\n",
    "     {'ingridient_name': 'огурцы', 'quantity': 20, 'measure': 'гр'},\n",
    "     {'ingridient_name': 'маслины', 'quantity': 10, 'measure': 'гр'},\n",
    "     {'ingridient_name': 'оливковое масло', 'quantity': 20, 'measure': 'мл'},\n",
    "     {'ingridient_name': 'салат', 'quantity': 10, 'measure': 'гр'},\n",
    "     {'ingridient_name': 'перец', 'quantity': 20, 'measure': 'гр'}\n",
    "    ],\n",
    "  'пицца': [\n",
    "     {'ingridient_name': 'сыр', 'quantity': 20, 'measure': 'гр'},\n",
    "     {'ingridient_name': 'колбаса', 'quantity': 30, 'measure': 'гр'},\n",
    "     {'ingridient_name': 'бекон', 'quantity': 30, 'measure': 'гр'},\n",
    "     {'ingridient_name': 'оливки', 'quantity': 10, 'measure': 'гр'},\n",
    "     {'ingridient_name': 'томаты', 'quantity': 20, 'measure': 'гр'},\n",
    "     {'ingridient_name': 'тесто', 'quantity': 100, 'measure': 'гр'},   \n",
    "    ],\n",
    "  'лимонад': [\n",
    "     {'ingridient_name': 'лимон', 'quantity': 1, 'measure': 'шт'},\n",
    "     {'ingridient_name': 'вода', 'quantity': 200, 'measure': 'мл'},\n",
    "     {'ingridient_name': 'сахар', 'quantity': 10, 'measure': 'гр'},\n",
    "     {'ingridient_name': 'лайм', 'quantity': 20, 'measure': 'гр'},    \n",
    "    ]\n",
    "}\n",
    "\n",
    "vol = int(input('Введите количество порций:'))\n",
    "ingrid = {}\n",
    "for meal in cook_book.values():\n",
    "    for ingr in meal:\n",
    "        new_key = (ingr['ingridient_name'], ingr['measure']) # Создаем ключ из связки ингридиент+размерность для нового списка\n",
    "        if new_key in ingrid:\n",
    "            ingrid[new_key] += ingr['quantity'] * vol        # Если такое сочетание ингридиента и размерности есть, то прибавляем кол-во\n",
    "        else:\n",
    "            ingrid[new_key] = ingr['quantity'] * vol         # Если такого сочетаня ингридиента и размерности нет, то создаем \n",
    "\n",
    "for key, quantity in ingrid.items():\n",
    "    print(f'{key[0]}: {quantity} {key[1]}')\n",
    "\n",
    "\n",
    "# Введите количество порций:  \n",
    "# 3\n",
    "# Результат:\n",
    "\n",
    "# Сыр: 210 гр  \n",
    "# Томаты: 6 шт  \n",
    "# Огурцы: 60 гр  \n",
    "# Маслины: 30 гр  \n",
    "# Оливковое масло: 60 мл  \n",
    "# Салат: 30 гр  \n",
    "# Перец: 60 гр  \n",
    "# Колбаса: 90 гр  \n",
    "# Бекон: 90 гр  \n",
    "# Оливки: 30 гр  \n",
    "# Томаты: 60 гр  \n",
    "# Тесто: 300 гр  \n",
    "# Лимон: 3 шт  \n",
    "# Вода: 600 мл  \n",
    "# Сахар: 30 гр  \n",
    "# Лайм: 60 гр"
   ]
  }
 ],
 "metadata": {
  "kernelspec": {
   "display_name": "Python 3",
   "language": "python",
   "name": "python3"
  },
  "language_info": {
   "codemirror_mode": {
    "name": "ipython",
    "version": 3
   },
   "file_extension": ".py",
   "mimetype": "text/x-python",
   "name": "python",
   "nbconvert_exporter": "python",
   "pygments_lexer": "ipython3",
   "version": "3.8.8"
  }
 },
 "nbformat": 4,
 "nbformat_minor": 5
}
