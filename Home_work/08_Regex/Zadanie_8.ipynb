{
 "cells": [
  {
   "cell_type": "markdown",
   "id": "f6900113",
   "metadata": {},
   "source": [
    "# Домашнее задание к лекции \"Регулярные выражения\""
   ]
  },
  {
   "cell_type": "markdown",
   "id": "e07414f3",
   "metadata": {},
   "source": [
    "## Задание 1"
   ]
  },
  {
   "cell_type": "markdown",
   "id": "f47c115b",
   "metadata": {},
   "source": [
    "Напишите функцию, которая принимает на вход строку и проверяет является ли она валидным транспортным номером (1 буква, 3 цифры, 2 буквы, 2-3 цифры). Обратите внимание, что не все буквы кириллического алфавита используются в транспортных номерах.\n",
    "\n",
    "Если номер валиден, то функция должна возвращать отдельно номер и регион."
   ]
  },
  {
   "cell_type": "code",
   "execution_count": 1,
   "id": "69b80d94",
   "metadata": {},
   "outputs": [],
   "source": [
    "import re"
   ]
  },
  {
   "cell_type": "code",
   "execution_count": 86,
   "id": "23df4450",
   "metadata": {},
   "outputs": [
    {
     "name": "stdout",
     "output_type": "stream",
     "text": [
      "Введите номер а/м : A237TK567\n",
      "Номер A237TK валиден. Регион: 567\n"
     ]
    }
   ],
   "source": [
    "# В данном варианте регион проверяется только на удовлетворение условию 2-3 цифры. Реальное \n",
    "# существование региона не проверяется. Буквы в номере могут быть и латинские, и из кириллицы, верхний регистр.\n",
    "\n",
    "def check_car_id(text):\n",
    "    try:\n",
    "        car_id = re.search(r'([АВЕКМНОРСТУХABEKMHOPCTYX]\\d{3}[АВЕКМНОРСТУХABEKMHOPCTYX]{2})(\\d{2,3})', text)\n",
    "        print(f\"Номер {car_id.group(1)} валиден. Регион: {car_id.group(2)}\")\n",
    "        return\n",
    "    except:\n",
    "        print('Номер не валиден')\n",
    "        return\n",
    "\n",
    "check_car_id(input('Введите номер а/м : '))"
   ]
  },
  {
   "cell_type": "code",
   "execution_count": 85,
   "id": "0b4d7a2a",
   "metadata": {},
   "outputs": [
    {
     "name": "stdout",
     "output_type": "stream",
     "text": [
      "Введите номер а/м : У357ОО74\n",
      "Номер У357ОО валиден. Регион: 74\n"
     ]
    }
   ],
   "source": [
    "check_car_id(input('Введите номер а/м : '))"
   ]
  },
  {
   "cell_type": "code",
   "execution_count": 87,
   "id": "617f3535",
   "metadata": {},
   "outputs": [
    {
     "name": "stdout",
     "output_type": "stream",
     "text": [
      "Введите номер а/м : MH325H12\n",
      "Номер не валиден\n"
     ]
    }
   ],
   "source": [
    "check_car_id(input('Введите номер а/м : '))"
   ]
  },
  {
   "cell_type": "markdown",
   "id": "5c3b8f18",
   "metadata": {},
   "source": [
    "## Задание 2"
   ]
  },
  {
   "cell_type": "markdown",
   "id": "c7bb6962",
   "metadata": {},
   "source": [
    "Напишите функцию, которая будет удалять все последовательные повторы слов из заданной строки при помощи регулярных выражений."
   ]
  },
  {
   "cell_type": "code",
   "execution_count": 72,
   "id": "a2ab3622",
   "metadata": {},
   "outputs": [
    {
     "data": {
      "text/plain": [
       "'Напишите функцию, которая будет удалять все последовательные повторы слов из заданной строки при помощи регулярных выражений.'"
      ]
     },
     "execution_count": 72,
     "metadata": {},
     "output_type": "execute_result"
    }
   ],
   "source": [
    "some_string = 'Напишите функцию функцию, которая будет будет будет будет удалять все все все все последовательные повторы слов из из из из заданной строки строки при помощи регулярных выражений.'\n",
    "\n",
    "def deleting_repetitions(text):\n",
    "    clear_text = re.sub(r'(\\S+)(\\s+\\1)+', r'\\1', text)\n",
    "    return clear_text\n",
    "\n",
    "deleting_repetitions(some_string)"
   ]
  },
  {
   "cell_type": "markdown",
   "id": "91ad0b4a",
   "metadata": {},
   "source": [
    "## Задание 3"
   ]
  },
  {
   "cell_type": "markdown",
   "id": "c2087666",
   "metadata": {},
   "source": [
    "Напишите функцию, которая будет возвращать акроним по переданной в нее строке со словами."
   ]
  },
  {
   "cell_type": "code",
   "execution_count": 110,
   "id": "3cd440c5",
   "metadata": {},
   "outputs": [
    {
     "data": {
      "text/plain": [
       "'НИЛОПАБ'"
      ]
     },
     "execution_count": 110,
     "metadata": {},
     "output_type": "execute_result"
    }
   ],
   "source": [
    "# Примеры работы программы:\n",
    "\n",
    "some_words = 'Информационные технологии'\n",
    "# Результат: ИТ\n",
    "\n",
    "# some_words = 'Near Field Communication'\n",
    "# Результат: NFC\n",
    "# some_words = 'Южно-Уральский Государственный Университет'\n",
    "some_words = 'Научно-исследовательская лаборатория операций по армированию бетона'\n",
    "\n",
    "\n",
    "def acronim(text):\n",
    "    result = re.sub(r'(\\w{1})(\\w+[\\s-]*)',r'\\1', text)\n",
    "    return str.upper(result)\n",
    "\n",
    "acronim(some_words)"
   ]
  },
  {
   "cell_type": "markdown",
   "id": "e5237927",
   "metadata": {},
   "source": [
    "## Задание 4"
   ]
  },
  {
   "cell_type": "markdown",
   "id": "ae4a28b2",
   "metadata": {},
   "source": [
    "Напишите функцию, которая будет принимать на вход список email-адресов и выводить их распределение по доменным зонам."
   ]
  },
  {
   "cell_type": "code",
   "execution_count": 130,
   "id": "904e6a2e",
   "metadata": {},
   "outputs": [
    {
     "name": "stdout",
     "output_type": "stream",
     "text": [
      "gmail.com: 2\n",
      "test.in: 1\n",
      "ya.ru: 2\n",
      "mail.ru: 1\n"
     ]
    }
   ],
   "source": [
    "# Пример работы программы:\n",
    "\n",
    "emails = ['test@gmail.com', 'xyz@test.in', 'test@ya.ru', 'xyz@mail.ru', 'xyz@ya.ru', 'xyz@gmail.com']\n",
    "\n",
    "# Результат:\n",
    "\n",
    "# gmail.com: 2\n",
    "# test.in: 1 \n",
    "# ya.ru: 2 \n",
    "# mail.ru: 1\n",
    "\n",
    "def distribution_by_domain(spisok):\n",
    "    domain_dict = {}\n",
    "    for element in spisok:\n",
    "        domain = re.search(r'(@)(\\w+\\.\\w+)', element)\n",
    "        if domain:\n",
    "            if domain.group(2) not in  domain_dict:\n",
    "                domain_dict[domain.group(2)] = 1\n",
    "            else: \n",
    "                domain_dict[domain.group(2)] += 1\n",
    "    for key, value in domain_dict.items():\n",
    "        print(key, ': ', value, sep='')\n",
    "    return    \n",
    "\n",
    "distribution_by_domain(emails)\n",
    "    "
   ]
  },
  {
   "cell_type": "markdown",
   "id": "e18c8faf",
   "metadata": {},
   "source": [
    "## Задание 5 (необязательное)"
   ]
  },
  {
   "cell_type": "markdown",
   "id": "6a636adf",
   "metadata": {},
   "source": [
    "Напишите функцию, которая будет подсчитывать сколько слов начинается на гласные, а сколько на согласные буквы в тексте (текст может быть написан как с использованием букв кириллицы, так и латиницы)."
   ]
  },
  {
   "cell_type": "code",
   "execution_count": 139,
   "id": "3a352045",
   "metadata": {},
   "outputs": [
    {
     "name": "stdout",
     "output_type": "stream",
     "text": [
      "Слов на гласные буквы:  3\n",
      "Слов на согласные буквы:  26\n",
      "['Напишите', 'функцию,', 'которая', 'будет', 'подсчитывать', 'сколько', 'слов', 'начинается', 'на', 'гласные,', 'сколько', 'на', 'согласные', 'буквы', 'в', 'тексте', 'текст', 'может', 'быть', 'написан', 'как', 'с', 'букв', 'кириллицы,', 'так', 'латиницы).']\n"
     ]
    }
   ],
   "source": [
    "# Пример работы программы:\n",
    "\n",
    "# some_text = 'Эталонной реализацией Python является интерпретатор CPython, поддерживающий большинство активно используемых платформ. Он распространяется под свободной лицензией Python Software Foundation License, позволяющей использовать его без ограничений в любых приложениях, включая проприетарные.'\n",
    "some_text = 'Напишите функцию, которая будет подсчитывать сколько слов начинается на гласные, а сколько на согласные буквы в тексте (текст может быть написан как с использованием букв кириллицы, так и латиницы).'\n",
    "# Результат:\n",
    "\n",
    "# Слов на гласные буквы: 9\n",
    "# Слов на согласные буквы: 21\n",
    "\n",
    "def counting_letters(text):\n",
    "    vowels = re.findall(r'\\b[аяуюоёэеыиiaeyou]\\S*', text, flags=re.I)\n",
    "    print('Слов на гласные буквы: ', len(vowels))\n",
    "    consonants =re.findall(r'\\b[^аяуюоёэеыиiaeyou\\s]\\S*',text, flags=re.I)\n",
    "    print('Слов на согласные буквы: ',len(consonants))\n",
    "    return\n",
    "\n",
    "counting_letters(some_text)"
   ]
  },
  {
   "cell_type": "markdown",
   "id": "b70cf2ad",
   "metadata": {},
   "source": [
    "## Задание 6 (необязательное)"
   ]
  },
  {
   "cell_type": "markdown",
   "id": "d287cbbe",
   "metadata": {},
   "source": [
    "Напишите функцию, которая будет проверять номер сотового телефона на валидность (только для российского формата), если он валиден, то переводить его в формат:\n",
    "\n",
    "+7-xxx-xxx-xx-xx\n",
    "\n",
    "Постарайтесь предусмотреть как можно больше адекватных форматов изначального ввода номера. "
   ]
  },
  {
   "cell_type": "code",
   "execution_count": 193,
   "id": "b7bb8a25",
   "metadata": {},
   "outputs": [
    {
     "name": "stdout",
     "output_type": "stream",
     "text": [
      "+7-955-555-55-55\n"
     ]
    }
   ],
   "source": [
    "# phone = '+7 955 555-55-55'\n",
    "# Результат: +7-950-555-55-55       - 955 превратилось в 950 случайно? или так в программе делать надо?\n",
    "\n",
    "phone = '8(955)555-55-55'\n",
    "# Результат: +7-950-555-55-55  \n",
    "\n",
    "# phone = '+7 955 555 55 55'\n",
    "# Результат: +7-950-555-55-55\n",
    "\n",
    "# phone = '7(955) 555-55-55'\n",
    "# Результат: +7-950-555-55-55\n",
    "\n",
    "# phone = '423-555-55-5555'\n",
    "# Результат: Номер не валиден\n",
    "\n",
    "# phone = '123-456-789'\n",
    "#Результат: Номер не валиден\n",
    "\n",
    "# phone = '8 (800) 301-39-69'\n",
    "# phone = '+7 (495) 152-55-28'\n",
    "# phone = '+74957397000'\n",
    "\n",
    "\n",
    "def check_phone_number(num):\n",
    "    try:\n",
    "        phone_num = re.search(r'\\+?7[\\s\\-\\(]*(\\d{3})[\\s\\-\\)]*(\\d{3})[\\s\\-]*(\\d{2})[\\s\\-]*(\\d{2})|8[\\s\\-\\(]*(\\d{3})[\\s\\-\\)]*(\\d{3})[\\s\\-]*(\\d{2})[\\s\\-]*(\\d{2})', num)\n",
    "        if phone_num.group(1):\n",
    "            print(f'+7-{phone_num.group(1)}-{phone_num.group(2)}-{phone_num.group(3)}-{phone_num.group(4)}')\n",
    "        elif phone_num.group(5):\n",
    "            print(f'+7-{phone_num.group(5)}-{phone_num.group(6)}-{phone_num.group(7)}-{phone_num.group(8)}')\n",
    "    except:\n",
    "        print('Номер не валиден')\n",
    "    return\n",
    "\n",
    "check_phone_number(phone)\n"
   ]
  }
 ],
 "metadata": {
  "kernelspec": {
   "display_name": "Python 3",
   "language": "python",
   "name": "python3"
  },
  "language_info": {
   "codemirror_mode": {
    "name": "ipython",
    "version": 3
   },
   "file_extension": ".py",
   "mimetype": "text/x-python",
   "name": "python",
   "nbconvert_exporter": "python",
   "pygments_lexer": "ipython3",
   "version": "3.8.8"
  }
 },
 "nbformat": 4,
 "nbformat_minor": 5
}
