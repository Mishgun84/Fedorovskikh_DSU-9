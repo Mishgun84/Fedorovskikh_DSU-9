{
 "cells": [
  {
   "cell_type": "markdown",
   "id": "505e9047",
   "metadata": {},
   "source": [
    "# Домашнее задание к лекции Работа с файловой системой и модули"
   ]
  },
  {
   "cell_type": "markdown",
   "id": "61ff222b",
   "metadata": {},
   "source": [
    "## 1. Переведите содержимое файла purchase_log.txt в словарь purchases вида:\n",
    "{‘1840e0b9d4’: ‘Продукты’, …}"
   ]
  },
  {
   "cell_type": "code",
   "execution_count": 34,
   "id": "390a765f",
   "metadata": {},
   "outputs": [
    {
     "name": "stdout",
     "output_type": "stream",
     "text": [
      "{'1840e0b9d4': 'Продукты', '4e4f90fcfb': 'Электроника', 'afea8d72fc': 'Электроника', '373a6055fe': 'Бытовая техника', '9b2ab046f3': 'Электроника', '9f39d307c3': 'Электроника', '44edeffc91': 'Продукты', '704474fa2d': 'Продукты', '1de31be403': 'Бытовая техника', 'b71f36a5e4': 'Продукты'}\n"
     ]
    }
   ],
   "source": [
    "# Т.к. при попытке вывести на экран весь словарь purchases выдается ошибка:\n",
    "#            IOPub data rate exceeded.\n",
    "#            The notebook server will temporarily stop sending output\n",
    "#            to the client in order to avoid crashing it.\n",
    "#            To change this limit, set the config variable\n",
    "#            `--NotebookApp.iopub_data_rate_limit`.\n",
    "\n",
    "#            Current values:\n",
    "#            NotebookApp.iopub_data_rate_limit=1000000.0 (bytes/sec)\n",
    "#            NotebookApp.rate_limit_window=3.0 (secs)\n",
    "# для проверки работы кода в этом случае ограничил размер словаря 10-ю элементами\n",
    "\n",
    "import json\n",
    "purchases = {}\n",
    "with open('purchase_log.txt', 'r', encoding=\"utf-8\") as f:\n",
    "    for i, line in enumerate(f):\n",
    "        if 0 < i < 11:\n",
    "            dict_ = json.loads(line)\n",
    "            purchases[dict_['user_id']] = dict_['category']\n",
    "print(purchases)\n",
    "\n"
   ]
  },
  {
   "cell_type": "code",
   "execution_count": 28,
   "id": "16e8bbbc",
   "metadata": {},
   "outputs": [
    {
     "name": "stdout",
     "output_type": "stream",
     "text": [
      "1840e0b9d4 ['Продукты']\n",
      "4e4f90fcfb ['Электроника']\n",
      "afea8d72fc ['Электроника']\n",
      "373a6055fe ['Бытовая техника']\n",
      "9b2ab046f3 ['Электроника']\n",
      "9f39d307c3 ['Электроника']\n",
      "44edeffc91 ['Продукты']\n",
      "704474fa2d ['Продукты']\n",
      "1de31be403 ['Бытовая техника']\n",
      "b71f36a5e4 ['Продукты']\n",
      "79843a685a ['Продукты']\n"
     ]
    }
   ],
   "source": [
    "# В этом случае словарь формируется полностью. Ограничен вывод элементов словаря на экран.\n",
    "# Если в файле purchase_log.txt какой-то user_id встречается несколько раз, то в итоговом словаре purchases\n",
    "# для этого ключа user_id в список добавляются все связанные с ним категории покупок.\n",
    "\n",
    "import json\n",
    "purchases = {}           # словарь, где для каждого user_id категории покупок не повторяются\n",
    "purchases_w_duble = {}   # в этот словарь для каждого user_id записываются все встречающиеся категории, даже если повторяются\n",
    "with open('purchase_log.txt', 'r', encoding=\"utf-8\") as f:\n",
    "    for i, line in enumerate(f):\n",
    "        if i > 0:\n",
    "            dict_ = json.loads(line)\n",
    "            if dict_['user_id'] in purchases:\n",
    "                purchases_w_duble[dict_['user_id']].append(dict_['category'])\n",
    "                if dict_['category'] not in purchases[dict_['user_id']]:\n",
    "                    purchases[dict_['user_id']].append(dict_['category'])\n",
    "            else:\n",
    "                purchases[dict_['user_id']] = [dict_['category']]\n",
    "                purchases_w_duble[dict_['user_id']] = [dict_['category']]\n",
    "# Выводим на экран первые несколько элементов\n",
    "i = 0\n",
    "for key, cat in purchases.items():\n",
    "    print(key, cat)\n",
    "    i += 1\n",
    "    if i > 10:\n",
    "        break\n",
    "# записываем результат в файл purchase_result.txt\n",
    "with open('purchase_result.txt', 'w') as w:\n",
    "    w.write(str(purchases))\n",
    "#     w.write(json.dumps(purchases))"
   ]
  },
  {
   "cell_type": "markdown",
   "id": "60b27a5b",
   "metadata": {},
   "source": [
    "## 2. Для каждого user_id в файле visit_log.csv определите третий столбец с категорией покупки (если покупка была, сам файл visit_log.csv изменять не надо). Запишите в файл funnel.csv визиты из файла visit_log.csv, в которых были покупки с указанием категории."
   ]
  },
  {
   "cell_type": "code",
   "execution_count": 50,
   "id": "f224899d",
   "metadata": {
    "scrolled": false
   },
   "outputs": [],
   "source": [
    "# Некоторые user_id в файле purchase_log.txt встречаются несколько раз, но при этом в файле visit_log.csv встречаются только \n",
    "# один раз. Т.е. возможно покупатель за один визит совершил покупки в нескольких категориях (или несколько покупок в одной).\n",
    "# А некотоные user_id, встречающиеся в обоих файлах по несколько раз (например user_id = 0061aaf3f9). Каким образом разделить\n",
    "# в какой визит покупатель покупал в конкретной категории я не знаю, не хватает входных данных. Поэтому для каждого визита \n",
    "# буду указывать весь список категорий покупок этого покупателя (включая дубли).\n",
    "# Формат итогового файла funnel.csv такой же, как visit_log.csv\n",
    "\n",
    "with open('visit_log.csv', 'r') as visit_log, open('funnel.csv', 'w') as funnel, open('visit_wo_pur.csv', 'w') as visit_wo_pur:\n",
    "    funnel.write('user_id,source,category\\n')\n",
    "    for i, visit_line in enumerate(visit_log):\n",
    "        visit_line = visit_line.strip().split(',')\n",
    "        if visit_line[0] in purchases_w_duble:\n",
    "            visit_line.append(','.join(purchases_w_duble[visit_line[0]]))\n",
    "            stroka = ','.join(visit_line)+'\\n'\n",
    "            funnel.write(stroka)\n",
    "        else:\n",
    "            stroka = ','.join(visit_line)+'\\n'\n",
    "            visit_wo_pur.write(stroka)\n",
    "        \n",
    "#  В файле с визитами visit_log.csv 200000 строк\n",
    "#  В файле funnel.csv 13799 строк (одну строку с заголовками мы добавили вручную. Без нее 13798 строк)\n",
    "#  В файл visit_wo_pur.csv попало то, что не нашли в словаре с покупками, т.е. визиты без покупок и заголовок \n",
    "#  из visit_log.csv. В этом файле 186202 строки. \n",
    "#    13798 + 186202 = 200000 - вроде бы все сходится, ничего не потеряли\n"
   ]
  }
 ],
 "metadata": {
  "kernelspec": {
   "display_name": "Python 3",
   "language": "python",
   "name": "python3"
  },
  "language_info": {
   "codemirror_mode": {
    "name": "ipython",
    "version": 3
   },
   "file_extension": ".py",
   "mimetype": "text/x-python",
   "name": "python",
   "nbconvert_exporter": "python",
   "pygments_lexer": "ipython3",
   "version": "3.8.8"
  }
 },
 "nbformat": 4,
 "nbformat_minor": 5
}
