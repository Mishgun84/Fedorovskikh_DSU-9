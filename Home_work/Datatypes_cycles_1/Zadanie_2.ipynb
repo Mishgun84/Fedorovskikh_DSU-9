{
 "cells": [
  {
   "cell_type": "markdown",
   "id": "8415d97b",
   "metadata": {},
   "source": [
    "# Домашнее задание к лекции \"Введение в типы данных и циклы. Часть 1\""
   ]
  },
  {
   "cell_type": "markdown",
   "id": "2f02c474",
   "metadata": {},
   "source": [
    "## Задание 1"
   ]
  },
  {
   "cell_type": "markdown",
   "id": "51a2e136",
   "metadata": {},
   "source": [
    "Дана переменная, в которой хранится слово из латинских букв. Напишите код, который выводит на экран:\n",
    "\n",
    "среднюю букву, если число букв в слове нечетное;\n",
    "\n",
    "две средних буквы, если число букв четное."
   ]
  },
  {
   "cell_type": "code",
   "execution_count": 9,
   "id": "d1fbf52f",
   "metadata": {},
   "outputs": [
    {
     "name": "stdout",
     "output_type": "stream",
     "text": [
      "t\n"
     ]
    }
   ],
   "source": [
    "word = 'testing'\n",
    "length = len(word)\n",
    "mid = length // 2\n",
    "if length % 2 == 0:\n",
    "    print(word[mid - 1:mid + 1])\n",
    "else:\n",
    "    print(word[mid])"
   ]
  },
  {
   "cell_type": "markdown",
   "id": "da822a90",
   "metadata": {},
   "source": [
    "## Задание 2"
   ]
  },
  {
   "cell_type": "markdown",
   "id": "56cb455a",
   "metadata": {},
   "source": [
    "Напишите программу, которая последовательно запрашивает у пользователя числа (по одному за раз) и после первого нуля выводит сумму всех ранее введенных чисел."
   ]
  },
  {
   "cell_type": "code",
   "execution_count": 14,
   "id": "91b1ad72",
   "metadata": {},
   "outputs": [
    {
     "name": "stdout",
     "output_type": "stream",
     "text": [
      "Введите число: 1\n",
      "Введите число: 4\n",
      "Введите число: 6\n",
      "Введите число: 8\n",
      "Введите число: 0\n",
      "19\n"
     ]
    }
   ],
   "source": [
    "user_input = 1\n",
    "user_sum = 0\n",
    "while user_input != 0:\n",
    "    user_input = int(input('Введите число: '))\n",
    "    user_sum += user_input\n",
    "print(user_sum)"
   ]
  },
  {
   "cell_type": "markdown",
   "id": "efec73d0",
   "metadata": {},
   "source": [
    "## Задание 3"
   ]
  },
  {
   "cell_type": "markdown",
   "id": "dc4663a2",
   "metadata": {},
   "source": [
    "Мы делаем MVP dating-сервиса, и у нас есть список парней и девушек.\n",
    "Выдвигаем гипотезу: лучшие рекомендации мы получим, если просто отсортируем имена по алфавиту и познакомим людей с одинаковыми индексами после сортировки! Но мы не будем никого знакомить, если кто-то может остаться без пары:"
   ]
  },
  {
   "cell_type": "code",
   "execution_count": 20,
   "id": "01df42c2",
   "metadata": {},
   "outputs": [
    {
     "name": "stdout",
     "output_type": "stream",
     "text": [
      "Идеальные пары: \n",
      "Alex и Emma\n",
      "Arthur и Kate\n",
      "John и Kira\n",
      "Peter и Liza\n",
      "Richard и Trisha\n"
     ]
    }
   ],
   "source": [
    "boys = ['Peter', 'Alex', 'John', 'Arthur', 'Richard']\n",
    "girls = ['Kate', 'Liza', 'Kira', 'Emma', 'Trisha']\n",
    "\n",
    "if len(boys) == len(girls):\n",
    "    print('Идеальные пары: ')\n",
    "    for boy, girl in zip(sorted(boys), sorted(girls)):\n",
    "        print(f'{boy} и {girl}')\n",
    "else:\n",
    "    print('Внимание, кто-то может остаться без пары!')"
   ]
  },
  {
   "cell_type": "markdown",
   "id": "50274cee",
   "metadata": {},
   "source": [
    "## Задание 4"
   ]
  },
  {
   "cell_type": "markdown",
   "id": "2f9c24d4",
   "metadata": {},
   "source": [
    "У нас есть список, содержащий информацию о среднедневной температуре в Фаренгейтах за произвольный период по странам (структура данных в примере). Необходимо написать код, который рассчитает среднюю температуру за период в Цельсиях(!) для каждой страны."
   ]
  },
  {
   "cell_type": "code",
   "execution_count": 31,
   "id": "2237664c",
   "metadata": {},
   "outputs": [
    {
     "name": "stdout",
     "output_type": "stream",
     "text": [
      "Средняя температура в странах:\n",
      "Thailand  -  23.9  С\n",
      "Germany  -  13.8  С\n",
      "Russia  -  3.7  С\n",
      "Poland  -  12.0  С\n"
     ]
    }
   ],
   "source": [
    "countries_temperature = [\n",
    "    ['Thailand', [75.2, 77, 78.8, 73.4, 68, 75.2, 77]],\n",
    "    ['Germany', [57.2, 55.4, 59, 59, 53.6]],\n",
    "    ['Russia', [35.6, 37.4, 39.2, 41, 42.8, 39.2, 35.6]],\n",
    "    ['Poland', [50, 50, 53.6, 57.2, 55.4, 55.4]]\n",
    "]\n",
    "print('Средняя температура в странах:')\n",
    "for country in countries_temperature:\n",
    "    c = 0\n",
    "    for temp in country[1]:\n",
    "        c += (temp - 32) * 5 / 9\n",
    "    print(f'{country[0]}  -  {c / len(country[1]):.1f}  С')"
   ]
  },
  {
   "cell_type": "markdown",
   "id": "60cf5d6c",
   "metadata": {},
   "source": [
    "## Задание 5 (необязательное)"
   ]
  },
  {
   "cell_type": "markdown",
   "id": "ff9685fe",
   "metadata": {},
   "source": [
    "Дан поток логов по количеству просмотренных страниц для каждого пользователя. Вам необходимо написать алгоритм, который считает среднее значение просмотров на пользователя. Т. е. надо посчитать отношение суммы всех просмотров к количеству уникальных пользователей."
   ]
  },
  {
   "cell_type": "code",
   "execution_count": 54,
   "id": "9ffc1527",
   "metadata": {},
   "outputs": [
    {
     "name": "stdout",
     "output_type": "stream",
     "text": [
      "Среднее количество просмотров на уникального пользователя: 23.25\n"
     ]
    }
   ],
   "source": [
    "stream = [\n",
    "    '2018-01-01,user1,3',\n",
    "    '2018-01-07,user1,4',\n",
    "    '2018-03-29,user1,1',\n",
    "    '2018-04-04,user1,13',\n",
    "    '2018-01-05,user2,7',\n",
    "    '2018-06-14,user3,4',\n",
    "    '2018-07-02,user3,10',\n",
    "    '2018-03-21,user4,19',\n",
    "    '2018-03-22,user4,4',\n",
    "    '2018-04-22,user4,8',\n",
    "    '2018-05-03,user4,9',\n",
    "    '2018-05-11,user4,11',\n",
    "]\n",
    "\n",
    "# Преобразуем список строк в список списков\n",
    "stream_list = []\n",
    "i = 0\n",
    "for stream_log in stream:\n",
    "    stream_list.insert(i, stream_log.split(','))\n",
    "    i += 1\n",
    "\n",
    "# Создадим отдельный список уникальных пользователей и посчитаем общее число просмотров\n",
    "count = 0\n",
    "user_unicum = []\n",
    "for stream_log in stream_list:\n",
    "    count += int(stream_log[2])\n",
    "    if stream_log[1] not in user_unicum:\n",
    "        user_unicum.append(stream_log[1])\n",
    "\n",
    "print(f'Среднее количество просмотров на уникального пользователя: {count / len(user_unicum):.2f}')"
   ]
  },
  {
   "cell_type": "code",
   "execution_count": 55,
   "id": "8856c7b9",
   "metadata": {},
   "outputs": [
    {
     "name": "stdout",
     "output_type": "stream",
     "text": [
      "Среднее количество просмотров на уникального пользователя: 145.33\n"
     ]
    }
   ],
   "source": [
    "stream = [\n",
    "    '2018-01-01,user100,150',\n",
    "    '2018-01-07,user99,205',\n",
    "    '2018-03-29,user1001,81'\n",
    "]\n",
    "\n",
    "# Преобразуем список строк в список списков\n",
    "stream_list = []\n",
    "i = 0\n",
    "for stream_log in stream:\n",
    "    stream_list.insert(i, stream_log.split(','))\n",
    "    i += 1\n",
    "\n",
    "# Создадим отдельный список уникальных пользователей и посчитаем общее число просмотров\n",
    "count = 0\n",
    "user_unicum = []\n",
    "for stream_log in stream_list:\n",
    "    count += int(stream_log[2])\n",
    "    if stream_log[1] not in user_unicum:\n",
    "        user_unicum.append(stream_log[1])\n",
    "\n",
    "print(f'Среднее количество просмотров на уникального пользователя: {count / len(user_unicum):.2f}')"
   ]
  },
  {
   "cell_type": "code",
   "execution_count": 57,
   "id": "45a44b5a",
   "metadata": {},
   "outputs": [
    {
     "name": "stdout",
     "output_type": "stream",
     "text": [
      "Среднее количество просмотров на уникального пользователя: 145.33\n"
     ]
    }
   ],
   "source": [
    "# Решение с одним циклом\n",
    "stream = [\n",
    "    '2018-01-01,user100,150',\n",
    "    '2018-01-07,user99,205',\n",
    "    '2018-03-29,user1001,81'\n",
    "]\n",
    "\n",
    "stream_list = []  # Для преобразования список строк в список списков\n",
    "count = 0         # Счетчик просмотров\n",
    "user_unicum = []  # Список уникальных пользователей\n",
    "i = 0\n",
    "\n",
    "for stream_log in stream:\n",
    "    stream_list.insert(i, stream_log.split(','))\n",
    "    if stream_list[i][1] not in user_unicum:\n",
    "        user_unicum.append(stream_list[i][1])\n",
    "    count += int(stream_list[i][2])\n",
    "    i += 1\n",
    "\n",
    "print(f'Среднее количество просмотров на уникального пользователя: {count / len(user_unicum):.2f}')"
   ]
  },
  {
   "cell_type": "markdown",
   "id": "b9b753b7",
   "metadata": {},
   "source": [
    "## Задание 6 (необязательное)"
   ]
  },
  {
   "cell_type": "markdown",
   "id": "d7e6468b",
   "metadata": {},
   "source": [
    "Необходимо у пользователя запрашивать набор чисел разделенных пробелом. В результате в отсортированном порядке должны выводиться числа, которые повторяются в вводе более одного раза."
   ]
  },
  {
   "cell_type": "code",
   "execution_count": 97,
   "id": "951ad749",
   "metadata": {},
   "outputs": [
    {
     "name": "stdout",
     "output_type": "stream",
     "text": [
      "Введите числа: 10 15 15 103 200 200 200 1 1 1 1 1 2 2 2\n",
      "1 2 15 200 "
     ]
    }
   ],
   "source": [
    "digit_str = input('Введите числа: ')\n",
    "digit_list = digit_str.split(' ') #Получаем список строк  с числами\n",
    "digit_repeat = []\n",
    "#Создаем список повторяющихся чисел\n",
    "for element in digit_list:\n",
    "    if (digit_list.count(element) > 1) and (int(element) not in digit_repeat):\n",
    "        digit_repeat.append(int(element))\n",
    "digit_repeat.sort() # Сортируем список повторяющихся чисел\n",
    "for element in digit_repeat:\n",
    "    print(f'{element} ', end = '')\n",
    "# не понял как вывести список digit_repeat в одну строку без цикла, чтобы не отображались символы , и []. В лекциях подходящего инструмента не было"
   ]
  }
 ],
 "metadata": {
  "kernelspec": {
   "display_name": "Python 3",
   "language": "python",
   "name": "python3"
  },
  "language_info": {
   "codemirror_mode": {
    "name": "ipython",
    "version": 3
   },
   "file_extension": ".py",
   "mimetype": "text/x-python",
   "name": "python",
   "nbconvert_exporter": "python",
   "pygments_lexer": "ipython3",
   "version": "3.8.8"
  }
 },
 "nbformat": 4,
 "nbformat_minor": 5
}
