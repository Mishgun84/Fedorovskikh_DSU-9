{
 "cells": [
  {
   "cell_type": "markdown",
   "id": "54e16e22",
   "metadata": {},
   "source": [
    "# Домашнее задание к лекции \"Функции\""
   ]
  },
  {
   "cell_type": "markdown",
   "id": "b6288251",
   "metadata": {},
   "source": [
    "Вам нужно помочь секретарю автоматизировать работу. Для этого нужно написать программу, которая будет на основе хранимых данных исполнять пользовательские команды.\n",
    "\n",
    "Исходные данные имеют следующую структуру:"
   ]
  },
  {
   "cell_type": "code",
   "execution_count": 1,
   "id": "4c683503",
   "metadata": {},
   "outputs": [],
   "source": [
    "# перечень всех документов\n",
    "documents = [\n",
    " {'type': 'passport', 'number': '2207 876234', 'name': 'Василий Гупкин'},\n",
    " {'type': 'invoice', 'number': '11-2', 'name': 'Геннадий Покемонов'},\n",
    " {'type': 'insurance', 'number': '10006', 'name': 'Аристарх Павлов'}\n",
    "]\n",
    "\n",
    "# перечень полок, на которых хранятся документы (если документ есть в documents, то он обязательно должен быть и в directories)\n",
    "\n",
    "directories = {\n",
    " '1': ['2207 876234', '11-2'],\n",
    " '2': ['10006'],\n",
    " '3': []\n",
    "}"
   ]
  },
  {
   "cell_type": "markdown",
   "id": "9e71ea00",
   "metadata": {},
   "source": [
    "Общие требования к программе:\n",
    "\n",
    "- код должен быть грамотно декомпозирован (каждая функция отвечает за свою конкретную задачу, дублирующийся функционал переиспользуется, а его код не повторяется);\n",
    "- в коде отсутствуют глобальные переменные (за исключением documents и directories);\n",
    "- пользовательский ввод обрабатывается в цикле while до тех пор, пока пользователь явно не завершит программу (вводом команды \"q\")."
   ]
  },
  {
   "cell_type": "markdown",
   "id": "6812e996",
   "metadata": {},
   "source": [
    "## Задание 1"
   ]
  },
  {
   "cell_type": "markdown",
   "id": "b7755f68",
   "metadata": {},
   "source": [
    "### Пункт 1. Пользователь по команде \"p\" может узнать владельца документа по его номеру"
   ]
  },
  {
   "cell_type": "code",
   "execution_count": 2,
   "id": "2a96cba1",
   "metadata": {},
   "outputs": [],
   "source": [
    "def check_user_number(docs):\n",
    "    \"\"\"\n",
    "    Функция проверяет имеется ли в базе документов введенный номер документа. \n",
    "    Если такой номер документа найден, то возвращается значение ключа 'name'.\n",
    "    Если такой номер документа не найден, то возвращается False\n",
    "    \"\"\"\n",
    "    number = input('Введите номер документа: ')\n",
    "    for doc in docs:\n",
    "        if doc['number'] == number:\n",
    "            return doc\n",
    "    print('Документ не найден в базе.')\n",
    "    return False\n",
    "\n",
    "def print_user_info(user):\n",
    "    \"\"\"\n",
    "    Функция принимает на вход информацию о владельце документа. \n",
    "    Если она не False, то выводится на экран.\n",
    "    \"\"\"\n",
    "    if user is not False:\n",
    "        print(f\"Владелец документа: {user['name']}\")\n",
    "    return"
   ]
  },
  {
   "cell_type": "markdown",
   "id": "45e021e5",
   "metadata": {},
   "source": [
    "### Пункт 2. Пользователь по команде \"s\" может по номеру документа узнать на какой полке он хранится"
   ]
  },
  {
   "cell_type": "code",
   "execution_count": 3,
   "id": "382e3829",
   "metadata": {},
   "outputs": [],
   "source": [
    "def search_direct(direct, user):\n",
    "    \"\"\"\n",
    "    Функция вывода на экран номера полки.\n",
    "    Если номер документа найден в базе, то функция выводит на экран номер полки, на которой хранится документ с этим номером.\n",
    "    \"\"\"\n",
    "    if user is not False:\n",
    "        for polka, doc_num in direct.items():\n",
    "            if user['number'] in doc_num:\n",
    "                print(f'Документ хранится на полке: {polka}')\n",
    "                return True\n",
    "    else:\n",
    "        return False"
   ]
  },
  {
   "cell_type": "markdown",
   "id": "d77fcd9c",
   "metadata": {},
   "source": [
    "### Пункт 3. Пользователь по команде \"l\" может увидеть полную информацию по всем документам"
   ]
  },
  {
   "cell_type": "code",
   "execution_count": 4,
   "id": "c305610b",
   "metadata": {},
   "outputs": [],
   "source": [
    "# markdown искажает текст и не совсем понятно какая команда в условии задания \"/\" или буква \"l\". Буду считать, что буква \"l\"\n",
    "def print_full_info_docs(docs, direct):\n",
    "    for polka, doc_num in direct.items():\n",
    "        for doc in docs:\n",
    "            if doc['number'] in doc_num:\n",
    "                print(f\"№: {doc['number']}, тип: {doc['type']}, владелец: {doc['name']}, полка хранения: {polka}\")\n",
    "    return True"
   ]
  },
  {
   "cell_type": "markdown",
   "id": "a23355f5",
   "metadata": {},
   "source": [
    "### Пункт 4. Пользователь по команде \"ads\" может добавить новую полку"
   ]
  },
  {
   "cell_type": "code",
   "execution_count": 5,
   "id": "055fb56e",
   "metadata": {},
   "outputs": [],
   "source": [
    "def print_shelf_list(direct):\n",
    "    \"\"\"\n",
    "    Функция ввыодит на экран текущий перечень полок\n",
    "    \"\"\"\n",
    "    print('Текущий перечень полок: ', end = '')\n",
    "    print(*sorted(direct.keys(), key = lambda k: int(k)), sep = ', ', end = '.\\n')\n",
    "    return\n",
    "\n",
    "def search_shelf(direct, shelf_num):\n",
    "    \"\"\"\n",
    "    Функция проверяет есть ли в базе такой номер полки\n",
    "    \"\"\"\n",
    "    for polka in direct.keys():\n",
    "        if polka == shelf_num:\n",
    "            return True\n",
    "    return False\n",
    "    \n",
    "    \n",
    "def ads(direct):\n",
    "    \"\"\"\n",
    "    Функция запрашивает номер полки и если такой полки еще нет, то добавляет ее.\n",
    "    \"\"\"\n",
    "    new_num = input('Введите номер полки: ')\n",
    "    if search_shelf(direct, new_num):\n",
    "        print('Такая полка уже существует. ', end = '')\n",
    "        print_shelf_list(direct)\n",
    "        return False\n",
    "    else:\n",
    "        direct[new_num] = []\n",
    "        print('Полка добавлена. ', end = '')\n",
    "        print_shelf_list(direct)\n",
    "        return True"
   ]
  },
  {
   "cell_type": "markdown",
   "id": "c1b9e911",
   "metadata": {},
   "source": [
    "### Пункт 5. Пользователь по команде \"ds\" может удалить существующую полку из данных (только если она пустая)"
   ]
  },
  {
   "cell_type": "code",
   "execution_count": 6,
   "id": "d7a59e1e",
   "metadata": {},
   "outputs": [],
   "source": [
    "def ds(direct):\n",
    "    \"\"\"\n",
    "    Функция запрашивает номер полки. Если она есть и пустая, то удаляет ее. Если не пустая, то выдает предупреждение.\n",
    "    Если полки нет, то сообшает об этом. \n",
    "    \"\"\"\n",
    "    new_num = input('Введите номер полки: ')\n",
    "    if search_shelf(direct, new_num):\n",
    "        if direct[new_num] == []:\n",
    "            del(direct[new_num])\n",
    "            print('Полка удалена. ',end = '')\n",
    "            print_shelf_list(direct)\n",
    "        else:\n",
    "            print('На полке есть документы, удалите их перед удалением полки. ',end = '')\n",
    "            print_shelf_list(direct)\n",
    "        return True\n",
    "    else:\n",
    "        print('Такой полки не существует. ', end = '')\n",
    "        print_shelf_list(direct)\n",
    "        return False"
   ]
  },
  {
   "cell_type": "markdown",
   "id": "5c60d3e8",
   "metadata": {},
   "source": [
    "## Задание 2 (необязательное)"
   ]
  },
  {
   "cell_type": "markdown",
   "id": "050de050",
   "metadata": {},
   "source": [
    "### Пункт 1. Пользователь по команде \"ad\" может добавить новый документ в данные"
   ]
  },
  {
   "cell_type": "code",
   "execution_count": 7,
   "id": "9a63acee",
   "metadata": {},
   "outputs": [],
   "source": [
    "def ad(docs, direct):\n",
    "    \"\"\"\n",
    "    Функция проверяет наличие введенного номера документа в базе и если такого номера нет, то запрашивает остальные атрибуты\n",
    "    нового документа и номер полки, куда его разместить. Если полки не существует, то ее нужно сначала добавить.\n",
    "    \"\"\"\n",
    "    number = input('Введите номер документа: ')\n",
    "    for doc in docs:\n",
    "        if doc['number'] == number:\n",
    "            print('Такой номер документа уже существует.')\n",
    "            print_full_info_docs(docs, direct)\n",
    "            return False\n",
    "    type_doc = input('Введите тип документа: ')\n",
    "    name_user = input('Введите владельца документа: ')\n",
    "    num_shelf = input('Введите полку для хранения:')\n",
    "    if search_shelf(direct, num_shelf):\n",
    "        docs.append({'type': type_doc, 'number': number, 'name': name_user}) \n",
    "        direct[num_shelf].append(number)\n",
    "        print('Документ добавлен. Текущий список документов: ')\n",
    "        print_full_info_docs(docs, direct)\n",
    "        return True\n",
    "    else:\n",
    "        print('Такой полки не существует. Добавьте полку командой ads.')\n",
    "        print('Текущий список документов: ')\n",
    "        print_full_info_docs(docs, direct)\n",
    "        return False"
   ]
  },
  {
   "cell_type": "markdown",
   "id": "e2f53aec",
   "metadata": {},
   "source": [
    "### Пункт 2. Пользователь по команде \"d\" может удалить документ из данных"
   ]
  },
  {
   "cell_type": "code",
   "execution_count": 8,
   "id": "15e9c308",
   "metadata": {},
   "outputs": [],
   "source": [
    "def d(docs, direct):\n",
    "    \"\"\"\n",
    "    Если документ есть в базе, то функция удаляет всю информацию о нем.\n",
    "    \"\"\"\n",
    "    user_doc = check_user_number(docs)\n",
    "    if user_doc is not False:\n",
    "        docs.remove(user_doc)\n",
    "        for polka, doc_num in direct.items():\n",
    "            if user_doc['number'] in doc_num:\n",
    "                doc_num.remove(user_doc['number'])\n",
    "        print('Документ удален. ')\n",
    "        print('Текущий список документов: ')\n",
    "        print_full_info_docs(docs, direct)\n",
    "        return True\n",
    "    else:\n",
    "        print('Текущий список документов: ')\n",
    "        print_full_info_docs(docs, direct)\n",
    "        return False"
   ]
  },
  {
   "cell_type": "markdown",
   "id": "bce4e517",
   "metadata": {},
   "source": [
    "### Пункт 3. Пользователь по команде \"m\" может переместить документ с полки на полку"
   ]
  },
  {
   "cell_type": "code",
   "execution_count": 9,
   "id": "f38d6512",
   "metadata": {},
   "outputs": [],
   "source": [
    "# В примере если введен несуществующий номер документа, то зачем запрашивать номер полки куда его перемещать? \n",
    "# Это обязательно так делать? Пользователю лучше сразу сообщить о том, что что-то уже пошло не так. \n",
    "# У меня не запрашивает номер полки если документ не найден.\n",
    "\n",
    "def move(docs, direct):\n",
    "    \"\"\"\n",
    "    Если документ есть в базе, то функция запрашивает номер полки, куда его переместить. И если указанная полка существует, то \n",
    "    номер документа удаляется с прежней полки и прописывается в новую.\n",
    "    \"\"\"\n",
    "    user_doc = check_user_number(docs)\n",
    "    if user_doc is not False:\n",
    "        num_shelf = input('Введите номер полки: ')\n",
    "        if search_shelf(direct, num_shelf):\n",
    "            for doc_num in direct.values():\n",
    "                if user_doc['number'] in doc_num:\n",
    "                    doc_num.remove(user_doc['number'])\n",
    "            direct[num_shelf].append(user_doc['number'])\n",
    "            print('Документ перемещен.')\n",
    "            print('Текущий список документов: ')\n",
    "            print_full_info_docs(docs, direct)\n",
    "            return True\n",
    "        else:\n",
    "            print('Такой полки не существует. ', end = '')\n",
    "            print_shelf_list(direct)\n",
    "            return False\n",
    "    else:\n",
    "        print('Текущий список документов: ')\n",
    "        print_full_info_docs(docs, direct)\n",
    "        return False\n"
   ]
  },
  {
   "cell_type": "code",
   "execution_count": null,
   "id": "6fff6d74",
   "metadata": {},
   "outputs": [
    {
     "name": "stdout",
     "output_type": "stream",
     "text": [
      "Введите команду:p\n",
      "Введите номер документа: 10006\n",
      "Владелец документа: Аристарх Павлов\n",
      "Введите команду:s\n",
      "Введите номер документа: 11-2\n",
      "Документ хранится на полке: 1\n",
      "Введите команду:l\n",
      "№: 2207 876234, тип: passport, владелец: Василий Гупкин, полка хранения: 1\n",
      "№: 11-2, тип: invoice, владелец: Геннадий Покемонов, полка хранения: 1\n",
      "№: 10006, тип: insurance, владелец: Аристарх Павлов, полка хранения: 2\n",
      "Введите команду:ads\n",
      "Введите номер полки: 2\n",
      "Такая полка уже существует. Текущий перечень полок: 1, 2, 3.\n",
      "Введите команду:ads\n",
      "Введите номер полки: 10\n",
      "Полка добавлена. Текущий перечень полок: 1, 2, 3, 10.\n",
      "Введите команду:ads\n",
      "Введите номер полки: 223\n",
      "Полка добавлена. Текущий перечень полок: 1, 2, 3, 10, 223.\n",
      "Введите команду:ds\n",
      "Введите номер полки: 1\n",
      "На полке есть документы, удалите их перед удалением полки. Текущий перечень полок: 1, 2, 3, 10, 223.\n",
      "Введите команду:ds\n",
      "Введите номер полки: 10\n",
      "Полка удалена. Текущий перечень полок: 1, 2, 3, 223.\n",
      "Введите команду:ad\n",
      "Введите номер документа: 234 567\n",
      "Введите тип документа: visa\n",
      "Введите владельца документа: Baden Baden\n",
      "Введите полку для хранения:223\n",
      "Документ добавлен. Текущий список документов: \n",
      "№: 2207 876234, тип: passport, владелец: Василий Гупкин, полка хранения: 1\n",
      "№: 11-2, тип: invoice, владелец: Геннадий Покемонов, полка хранения: 1\n",
      "№: 10006, тип: insurance, владелец: Аристарх Павлов, полка хранения: 2\n",
      "№: 234 567, тип: visa, владелец: Baden Baden, полка хранения: 223\n",
      "Введите команду:ad\n",
      "Введите номер документа: 42\n",
      "Введите тип документа: multipassport\n",
      "Введите владельца документа: R2D2\n",
      "Введите полку для хранения:3\n",
      "Документ добавлен. Текущий список документов: \n",
      "№: 2207 876234, тип: passport, владелец: Василий Гупкин, полка хранения: 1\n",
      "№: 11-2, тип: invoice, владелец: Геннадий Покемонов, полка хранения: 1\n",
      "№: 10006, тип: insurance, владелец: Аристарх Павлов, полка хранения: 2\n",
      "№: 42, тип: multipassport, владелец: R2D2, полка хранения: 3\n",
      "№: 234 567, тип: visa, владелец: Baden Baden, полка хранения: 223\n",
      "Введите команду:d\n",
      "Введите номер документа: 234 567\n",
      "Документ удален. \n",
      "Текущий список документов: \n",
      "№: 2207 876234, тип: passport, владелец: Василий Гупкин, полка хранения: 1\n",
      "№: 11-2, тип: invoice, владелец: Геннадий Покемонов, полка хранения: 1\n",
      "№: 10006, тип: insurance, владелец: Аристарх Павлов, полка хранения: 2\n",
      "№: 42, тип: multipassport, владелец: R2D2, полка хранения: 3\n",
      "Введите команду:m\n",
      "Введите номер документа: 43\n",
      "Документ не найден в базе.\n",
      "Текущий список документов: \n",
      "№: 2207 876234, тип: passport, владелец: Василий Гупкин, полка хранения: 1\n",
      "№: 11-2, тип: invoice, владелец: Геннадий Покемонов, полка хранения: 1\n",
      "№: 10006, тип: insurance, владелец: Аристарх Павлов, полка хранения: 2\n",
      "№: 42, тип: multipassport, владелец: R2D2, полка хранения: 3\n",
      "Введите команду:m\n",
      "Введите номер документа: 42\n",
      "Введите номер полки: 22\n",
      "Такой полки не существует. Текущий перечень полок: 1, 2, 3, 223.\n",
      "Введите команду:m\n",
      "Введите номер документа: 42\n",
      "Введите номер полки: 223\n",
      "Документ перемещен.\n",
      "Текущий список документов: \n",
      "№: 2207 876234, тип: passport, владелец: Василий Гупкин, полка хранения: 1\n",
      "№: 11-2, тип: invoice, владелец: Геннадий Покемонов, полка хранения: 1\n",
      "№: 10006, тип: insurance, владелец: Аристарх Павлов, полка хранения: 2\n",
      "№: 42, тип: multipassport, владелец: R2D2, полка хранения: 223\n"
     ]
    }
   ],
   "source": [
    "\n",
    "while True:\n",
    "    user_input = input('Введите команду:')\n",
    "    if user_input == 'p':                           # по команде \"p\" можно узнать владельца документа по его номеру\n",
    "        print_user_info(check_user_number(documents))\n",
    "    elif user_input == 's':                         # по команде \"s\" можно по номеру документа узнать на какой полке он хранится\n",
    "        search_direct(directories, check_user_number(documents))\n",
    "    elif user_input == 'l':                         # по команде \"l\" можно увидеть полную информацию по всем документам\n",
    "        print_full_info_docs(documents, directories)\n",
    "    elif user_input == 'ads':                       # по команде \"ads\" можно добавить новую полку\n",
    "        ads(directories)\n",
    "    elif user_input == 'ds':                        # по команде \"ds\" можно удалить существующую полку из данных\n",
    "        ds(directories)\n",
    "    elif user_input == 'ad':                        # по команде \"ad\" можно добавить новый документ в данные\n",
    "        ad(documents, directories)\n",
    "    elif user_input == 'd':                         # по команде \"d\" можно удалить документ из данных\n",
    "        d(documents, directories)   \n",
    "    elif user_input == 'm':                         # по команде \"m\" можно переместить документ с полки на полку\n",
    "        move(documents, directories)\n",
    "    elif user_input == 'q':                         # по команде \"q\" осуществляется выход из программы\n",
    "        print('До свидания!')\n",
    "        break\n"
   ]
  }
 ],
 "metadata": {
  "kernelspec": {
   "display_name": "Python 3",
   "language": "python",
   "name": "python3"
  },
  "language_info": {
   "codemirror_mode": {
    "name": "ipython",
    "version": 3
   },
   "file_extension": ".py",
   "mimetype": "text/x-python",
   "name": "python",
   "nbconvert_exporter": "python",
   "pygments_lexer": "ipython3",
   "version": "3.8.8"
  }
 },
 "nbformat": 4,
 "nbformat_minor": 5
}
